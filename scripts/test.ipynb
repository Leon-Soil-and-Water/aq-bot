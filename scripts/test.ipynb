{
 "cells": [
  {
   "cell_type": "code",
   "execution_count": 71,
   "id": "944fe6eb",
   "metadata": {},
   "outputs": [
    {
     "name": "stdout",
     "output_type": "stream",
     "text": [
      "Enter the time you want to post the bot: 8 or 15 8\n",
      "the AQI for 2021-12-12,8:00 is 20, category 1\n",
      "the msg is: In the Tallahassee area, the air quality is \"good\". Enjoy your outdoor activities!\n"
     ]
    }
   ],
   "source": [
    "\"\"\"\n",
    "input: time of post (AM or PM)\n",
    "output: aqi\n",
    "\"\"\"\n",
    "\n",
    "# import libraries\n",
    "import pandas as pd\n",
    "import requests\n",
    "import json\n",
    "from datetime import date\n",
    "\n",
    "# get today's date\n",
    "day = date.today().day\n",
    "month = date.today().month\n",
    "year = date.today().year\n",
    "\n",
    "# get post time\n",
    "post_time = input(\"Enter the time you want to post the bot: 8 or 15 \")\n",
    "post_time_2 = int(post_time) + 1\n",
    "\n",
    "# pull data from AirNow\n",
    "r = requests.get('https://www.airnowapi.org/aq/data/?startDate={year}-{month}-{day}T{time1}&endDate={year}-{month}-{day}T{time2}&parameters=PM25&BBOX=-84.500651,30.275370,-84.080424,30.684863&dataType=B&format=application/json&verbose=1&monitorType=2&includerawconcentrations=0&API_KEY=2BB44069-F9EF-4CA7-8B67-C9832B168B60'.format(day = day, month = month, year = year, time1 = post_time, time2 = post_time_2)).json()\n",
    "\n",
    "# store in dataframe\n",
    "df = pd.DataFrame.from_dict(r)\n",
    "\n",
    "# clean data\n",
    "df['date'] = df['UTC'].str.split('T').str[0]\n",
    "df['time'] = df['UTC'].str.split('T').str[1]\n",
    "\n",
    "df = df.drop(['UTC'], axis=1)\n",
    "\n",
    "df['Category'] = df['Category'].astype(str)\n",
    "\n",
    "# create dataframe\n",
    "conditions = pd.DataFrame({\n",
    "    'category': ['1', '2', '3', '4', '5', '6'],\n",
    "    'status': ['good', 'moderate', 'unhealthy for sensitive groups', 'unhealthy', 'very unhealthy', 'hazardous'],\n",
    "    'color': ['green', 'yellow', 'orange', 'red', 'purple', 'maroon'],\n",
    "    'message': ['In the Tallahassee area, the air quality is \"good\". Enjoy your outdoor activities!', \n",
    "            'In the Tallahassee area, the air quality is \"moderate\". If you are sensitive to air pollution, limit your time outdoors or wear a mask.',\n",
    "            'In the Tallahassee area, the air quality is \"unhealthy for sensitive groups',\n",
    "            'In the Tallahassee area, the air quality is \"unhealthy\".',\n",
    "            'In the Tallahassee area, the air quality is \"very unhealthy',\n",
    "            'In the Tallahassee area, the air quality is \"hazardous.']\n",
    "})\n",
    "\n",
    "# print status\n",
    "print(\"the AQI for {},{}:00 is {}, category {}\".format(date.today(), post_time, df.iloc[0]['AQI'], df.iloc[0]['Category'], df.iloc[0]['Category']))\n",
    "print(\"the msg is: {}\".format(conditions[conditions['category'] == df.iloc[0]['Category']].iloc[0]['message']))"
   ]
  },
  {
   "cell_type": "markdown",
   "id": "1abb4c7d",
   "metadata": {},
   "source": [
    "Selenium Testing -- Didn't Work!"
   ]
  },
  {
   "cell_type": "code",
   "execution_count": 1,
   "id": "12da7f7c",
   "metadata": {},
   "outputs": [
    {
     "name": "stdout",
     "output_type": "stream",
     "text": [
      "Requirement already satisfied: selenium in /Users/shelbygreen/opt/anaconda3/lib/python3.8/site-packages (4.0.0)\n",
      "Requirement already satisfied: trio~=0.17 in /Users/shelbygreen/opt/anaconda3/lib/python3.8/site-packages (from selenium) (0.19.0)\n",
      "Requirement already satisfied: urllib3[secure]~=1.26 in /Users/shelbygreen/opt/anaconda3/lib/python3.8/site-packages (from selenium) (1.26.4)\n",
      "Requirement already satisfied: trio-websocket~=0.9 in /Users/shelbygreen/opt/anaconda3/lib/python3.8/site-packages (from selenium) (0.9.2)\n",
      "Requirement already satisfied: outcome in /Users/shelbygreen/opt/anaconda3/lib/python3.8/site-packages (from trio~=0.17->selenium) (1.1.0)\n",
      "Requirement already satisfied: sortedcontainers in /Users/shelbygreen/opt/anaconda3/lib/python3.8/site-packages (from trio~=0.17->selenium) (2.3.0)\n",
      "Requirement already satisfied: idna in /Users/shelbygreen/opt/anaconda3/lib/python3.8/site-packages (from trio~=0.17->selenium) (2.10)\n",
      "Requirement already satisfied: async-generator>=1.9 in /Users/shelbygreen/opt/anaconda3/lib/python3.8/site-packages (from trio~=0.17->selenium) (1.10)\n",
      "Requirement already satisfied: sniffio in /Users/shelbygreen/opt/anaconda3/lib/python3.8/site-packages (from trio~=0.17->selenium) (1.2.0)\n",
      "Requirement already satisfied: attrs>=19.2.0 in /Users/shelbygreen/opt/anaconda3/lib/python3.8/site-packages (from trio~=0.17->selenium) (20.3.0)\n",
      "Requirement already satisfied: wsproto>=0.14 in /Users/shelbygreen/opt/anaconda3/lib/python3.8/site-packages (from trio-websocket~=0.9->selenium) (1.0.0)\n",
      "Requirement already satisfied: pyOpenSSL>=0.14 in /Users/shelbygreen/opt/anaconda3/lib/python3.8/site-packages (from urllib3[secure]~=1.26->selenium) (20.0.1)\n",
      "Requirement already satisfied: certifi in /Users/shelbygreen/opt/anaconda3/lib/python3.8/site-packages (from urllib3[secure]~=1.26->selenium) (2020.12.5)\n",
      "Requirement already satisfied: cryptography>=1.3.4 in /Users/shelbygreen/opt/anaconda3/lib/python3.8/site-packages (from urllib3[secure]~=1.26->selenium) (3.4.7)\n",
      "Requirement already satisfied: cffi>=1.12 in /Users/shelbygreen/opt/anaconda3/lib/python3.8/site-packages (from cryptography>=1.3.4->urllib3[secure]~=1.26->selenium) (1.14.5)\n",
      "Requirement already satisfied: pycparser in /Users/shelbygreen/opt/anaconda3/lib/python3.8/site-packages (from cffi>=1.12->cryptography>=1.3.4->urllib3[secure]~=1.26->selenium) (2.20)\n",
      "Requirement already satisfied: six>=1.5.2 in /Users/shelbygreen/opt/anaconda3/lib/python3.8/site-packages (from pyOpenSSL>=0.14->urllib3[secure]~=1.26->selenium) (1.15.0)\n",
      "Requirement already satisfied: h11<1,>=0.9.0 in /Users/shelbygreen/opt/anaconda3/lib/python3.8/site-packages (from wsproto>=0.14->trio-websocket~=0.9->selenium) (0.12.0)\n"
     ]
    }
   ],
   "source": [
    "!pip install selenium\n",
    "\n",
    "# and download driver and store in working directory"
   ]
  },
  {
   "cell_type": "code",
   "execution_count": 12,
   "id": "12c8f6ef",
   "metadata": {},
   "outputs": [],
   "source": [
    "from selenium import webdriver # selenium\n",
    "from time import sleep"
   ]
  },
  {
   "cell_type": "code",
   "execution_count": 77,
   "id": "f020f517",
   "metadata": {},
   "outputs": [],
   "source": [
    "# define canva log-in credentials\n",
    "userName = 'greenshelby@gmail.com'\n",
    "passWord = '#Sgcaca21!'"
   ]
  },
  {
   "cell_type": "code",
   "execution_count": 92,
   "id": "24510314",
   "metadata": {},
   "outputs": [
    {
     "name": "stderr",
     "output_type": "stream",
     "text": [
      "<ipython-input-92-3f0371f94d1f>:3: DeprecationWarning: executable_path has been deprecated, please pass in a Service object\n",
      "  browser = webdriver.Chrome('./chromedriver')\n"
     ]
    }
   ],
   "source": [
    "# define browser\n",
    "# this will open Google Chrome to a page called \"data:,\"\n",
    "browser = webdriver.Chrome('./chromedriver')"
   ]
  },
  {
   "cell_type": "code",
   "execution_count": 93,
   "id": "67839ddb",
   "metadata": {},
   "outputs": [],
   "source": [
    "# the browser will navigate to this website\n",
    "browser.get(\"http://www.canva.com/login\")"
   ]
  },
  {
   "cell_type": "code",
   "execution_count": 95,
   "id": "029e8f25",
   "metadata": {},
   "outputs": [
    {
     "name": "stderr",
     "output_type": "stream",
     "text": [
      "<ipython-input-95-ddc8534fb8a1>:2: DeprecationWarning: find_element_by_* commands are deprecated. Please use find_element() instead\n",
      "  browser.find_element_by_xpath(\"//*[(@id = '__a11yId21')]\").send_keys(userName)\n"
     ]
    }
   ],
   "source": [
    "# find email box and enter email\n",
    "browser.find_element_by_xpath(\"//*[(@id = '__a11yId21')]\").send_keys(userName)"
   ]
  },
  {
   "cell_type": "code",
   "execution_count": 97,
   "id": "adbccd8a",
   "metadata": {},
   "outputs": [
    {
     "name": "stderr",
     "output_type": "stream",
     "text": [
      "<ipython-input-97-1619a2c6f60b>:2: DeprecationWarning: find_element_by_* commands are deprecated. Please use find_element() instead\n",
      "  browser.find_element_by_xpath(\"//*[(@id = '__a11yId24')]\").send_keys(passWord)\n"
     ]
    }
   ],
   "source": [
    "# find password box and enter password\n",
    "browser.find_element_by_xpath(\"//*[(@id = '__a11yId24')]\").send_keys(passWord)"
   ]
  },
  {
   "cell_type": "code",
   "execution_count": 98,
   "id": "fde95cc8",
   "metadata": {},
   "outputs": [
    {
     "name": "stderr",
     "output_type": "stream",
     "text": [
      "<ipython-input-98-540c91a51a83>:2: DeprecationWarning: find_element_by_* commands are deprecated. Please use find_element() instead\n",
      "  browser.find_element_by_xpath(\"//*[contains(concat( \" \", @class, \" \" ), concat( \" \", 'ogth8A', \" \" ))]//*[contains(concat( \" \", @class, \" \" ), concat( \" \", '_38oWvQ', \" \" ))]\").click()\n"
     ]
    },
    {
     "ename": "InvalidSelectorException",
     "evalue": "Message: invalid selector: Unable to locate an element with the xpath expression //*[contains(concat( , @class,  ), concat( , 'ogth8A',  ))]//*[contains(concat( , @class,  ), concat( , '_38oWvQ',  ))] because of the following error:\nSyntaxError: Failed to execute 'evaluate' on 'Document': The string '//*[contains(concat( , @class,  ), concat( , 'ogth8A',  ))]//*[contains(concat( , @class,  ), concat( , '_38oWvQ',  ))]' is not a valid XPath expression.\n  (Session info: chrome=96.0.4664.93)\nStacktrace:\n0   chromedriver                        0x0000000103201269 __gxx_personality_v0 + 582729\n1   chromedriver                        0x000000010318cc33 __gxx_personality_v0 + 106003\n2   chromedriver                        0x0000000102d49e28 chromedriver + 171560\n3   chromedriver                        0x0000000102d4cca1 chromedriver + 183457\n4   chromedriver                        0x0000000102d4cac1 chromedriver + 182977\n5   chromedriver                        0x0000000102d4cd5c chromedriver + 183644\n6   chromedriver                        0x0000000102d7f0e6 chromedriver + 389350\n7   chromedriver                        0x0000000102d7f591 chromedriver + 390545\n8   chromedriver                        0x0000000102db16b4 chromedriver + 595636\n9   chromedriver                        0x0000000102d9c9fd chromedriver + 510461\n10  chromedriver                        0x0000000102daf462 chromedriver + 586850\n11  chromedriver                        0x0000000102d9cc23 chromedriver + 511011\n12  chromedriver                        0x0000000102d7275e chromedriver + 337758\n13  chromedriver                        0x0000000102d73a95 chromedriver + 342677\n14  chromedriver                        0x00000001031bd8ab __gxx_personality_v0 + 305803\n15  chromedriver                        0x00000001031d4863 __gxx_personality_v0 + 399939\n16  chromedriver                        0x00000001031d9c7f __gxx_personality_v0 + 421471\n17  chromedriver                        0x00000001031d5bba __gxx_personality_v0 + 404890\n18  chromedriver                        0x00000001031b1e51 __gxx_personality_v0 + 258097\n19  chromedriver                        0x00000001031f1158 __gxx_personality_v0 + 516920\n20  chromedriver                        0x00000001031f12e1 __gxx_personality_v0 + 517313\n21  chromedriver                        0x00000001032086f8 __gxx_personality_v0 + 612568\n22  libsystem_pthread.dylib             0x00007ff802709514 _pthread_start + 125\n23  libsystem_pthread.dylib             0x00007ff80270502f thread_start + 15\n",
     "output_type": "error",
     "traceback": [
      "\u001b[0;31m---------------------------------------------------------------------------\u001b[0m",
      "\u001b[0;31mInvalidSelectorException\u001b[0m                  Traceback (most recent call last)",
      "\u001b[0;32m<ipython-input-98-540c91a51a83>\u001b[0m in \u001b[0;36m<module>\u001b[0;34m\u001b[0m\n\u001b[1;32m      1\u001b[0m \u001b[0;31m# find login box and click it\u001b[0m\u001b[0;34m\u001b[0m\u001b[0;34m\u001b[0m\u001b[0;34m\u001b[0m\u001b[0m\n\u001b[0;32m----> 2\u001b[0;31m \u001b[0mbrowser\u001b[0m\u001b[0;34m.\u001b[0m\u001b[0mfind_element_by_xpath\u001b[0m\u001b[0;34m(\u001b[0m\u001b[0;34m\"//*[contains(concat( \"\u001b[0m \u001b[0;34m\", @class, \"\u001b[0m \u001b[0;34m\" ), concat( \"\u001b[0m \u001b[0;34m\", 'ogth8A', \"\u001b[0m \u001b[0;34m\" ))]//*[contains(concat( \"\u001b[0m \u001b[0;34m\", @class, \"\u001b[0m \u001b[0;34m\" ), concat( \"\u001b[0m \u001b[0;34m\", '_38oWvQ', \"\u001b[0m \u001b[0;34m\" ))]\"\u001b[0m\u001b[0;34m)\u001b[0m\u001b[0;34m.\u001b[0m\u001b[0mclick\u001b[0m\u001b[0;34m(\u001b[0m\u001b[0;34m)\u001b[0m\u001b[0;34m\u001b[0m\u001b[0;34m\u001b[0m\u001b[0m\n\u001b[0m",
      "\u001b[0;32m~/opt/anaconda3/lib/python3.8/site-packages/selenium/webdriver/remote/webdriver.py\u001b[0m in \u001b[0;36mfind_element_by_xpath\u001b[0;34m(self, xpath)\u001b[0m\n\u001b[1;32m    512\u001b[0m             \u001b[0mstacklevel\u001b[0m\u001b[0;34m=\u001b[0m\u001b[0;36m2\u001b[0m\u001b[0;34m,\u001b[0m\u001b[0;34m\u001b[0m\u001b[0;34m\u001b[0m\u001b[0m\n\u001b[1;32m    513\u001b[0m         )\n\u001b[0;32m--> 514\u001b[0;31m         \u001b[0;32mreturn\u001b[0m \u001b[0mself\u001b[0m\u001b[0;34m.\u001b[0m\u001b[0mfind_element\u001b[0m\u001b[0;34m(\u001b[0m\u001b[0mby\u001b[0m\u001b[0;34m=\u001b[0m\u001b[0mBy\u001b[0m\u001b[0;34m.\u001b[0m\u001b[0mXPATH\u001b[0m\u001b[0;34m,\u001b[0m \u001b[0mvalue\u001b[0m\u001b[0;34m=\u001b[0m\u001b[0mxpath\u001b[0m\u001b[0;34m)\u001b[0m\u001b[0;34m\u001b[0m\u001b[0;34m\u001b[0m\u001b[0m\n\u001b[0m\u001b[1;32m    515\u001b[0m \u001b[0;34m\u001b[0m\u001b[0m\n\u001b[1;32m    516\u001b[0m     \u001b[0;32mdef\u001b[0m \u001b[0mfind_elements_by_xpath\u001b[0m\u001b[0;34m(\u001b[0m\u001b[0mself\u001b[0m\u001b[0;34m,\u001b[0m \u001b[0mxpath\u001b[0m\u001b[0;34m)\u001b[0m \u001b[0;34m->\u001b[0m \u001b[0mWebElement\u001b[0m\u001b[0;34m:\u001b[0m\u001b[0;34m\u001b[0m\u001b[0;34m\u001b[0m\u001b[0m\n",
      "\u001b[0;32m~/opt/anaconda3/lib/python3.8/site-packages/selenium/webdriver/remote/webdriver.py\u001b[0m in \u001b[0;36mfind_element\u001b[0;34m(self, by, value)\u001b[0m\n\u001b[1;32m   1236\u001b[0m             \u001b[0mvalue\u001b[0m \u001b[0;34m=\u001b[0m \u001b[0;34m'[name=\"%s\"]'\u001b[0m \u001b[0;34m%\u001b[0m \u001b[0mvalue\u001b[0m\u001b[0;34m\u001b[0m\u001b[0;34m\u001b[0m\u001b[0m\n\u001b[1;32m   1237\u001b[0m \u001b[0;34m\u001b[0m\u001b[0m\n\u001b[0;32m-> 1238\u001b[0;31m         return self.execute(Command.FIND_ELEMENT, {\n\u001b[0m\u001b[1;32m   1239\u001b[0m             \u001b[0;34m'using'\u001b[0m\u001b[0;34m:\u001b[0m \u001b[0mby\u001b[0m\u001b[0;34m,\u001b[0m\u001b[0;34m\u001b[0m\u001b[0;34m\u001b[0m\u001b[0m\n\u001b[1;32m   1240\u001b[0m             'value': value})['value']\n",
      "\u001b[0;32m~/opt/anaconda3/lib/python3.8/site-packages/selenium/webdriver/remote/webdriver.py\u001b[0m in \u001b[0;36mexecute\u001b[0;34m(self, driver_command, params)\u001b[0m\n\u001b[1;32m    416\u001b[0m         \u001b[0mresponse\u001b[0m \u001b[0;34m=\u001b[0m \u001b[0mself\u001b[0m\u001b[0;34m.\u001b[0m\u001b[0mcommand_executor\u001b[0m\u001b[0;34m.\u001b[0m\u001b[0mexecute\u001b[0m\u001b[0;34m(\u001b[0m\u001b[0mdriver_command\u001b[0m\u001b[0;34m,\u001b[0m \u001b[0mparams\u001b[0m\u001b[0;34m)\u001b[0m\u001b[0;34m\u001b[0m\u001b[0;34m\u001b[0m\u001b[0m\n\u001b[1;32m    417\u001b[0m         \u001b[0;32mif\u001b[0m \u001b[0mresponse\u001b[0m\u001b[0;34m:\u001b[0m\u001b[0;34m\u001b[0m\u001b[0;34m\u001b[0m\u001b[0m\n\u001b[0;32m--> 418\u001b[0;31m             \u001b[0mself\u001b[0m\u001b[0;34m.\u001b[0m\u001b[0merror_handler\u001b[0m\u001b[0;34m.\u001b[0m\u001b[0mcheck_response\u001b[0m\u001b[0;34m(\u001b[0m\u001b[0mresponse\u001b[0m\u001b[0;34m)\u001b[0m\u001b[0;34m\u001b[0m\u001b[0;34m\u001b[0m\u001b[0m\n\u001b[0m\u001b[1;32m    419\u001b[0m             response['value'] = self._unwrap_value(\n\u001b[1;32m    420\u001b[0m                 response.get('value', None))\n",
      "\u001b[0;32m~/opt/anaconda3/lib/python3.8/site-packages/selenium/webdriver/remote/errorhandler.py\u001b[0m in \u001b[0;36mcheck_response\u001b[0;34m(self, response)\u001b[0m\n\u001b[1;32m    241\u001b[0m                 \u001b[0malert_text\u001b[0m \u001b[0;34m=\u001b[0m \u001b[0mvalue\u001b[0m\u001b[0;34m[\u001b[0m\u001b[0;34m'alert'\u001b[0m\u001b[0;34m]\u001b[0m\u001b[0;34m.\u001b[0m\u001b[0mget\u001b[0m\u001b[0;34m(\u001b[0m\u001b[0;34m'text'\u001b[0m\u001b[0;34m)\u001b[0m\u001b[0;34m\u001b[0m\u001b[0;34m\u001b[0m\u001b[0m\n\u001b[1;32m    242\u001b[0m             \u001b[0;32mraise\u001b[0m \u001b[0mexception_class\u001b[0m\u001b[0;34m(\u001b[0m\u001b[0mmessage\u001b[0m\u001b[0;34m,\u001b[0m \u001b[0mscreen\u001b[0m\u001b[0;34m,\u001b[0m \u001b[0mstacktrace\u001b[0m\u001b[0;34m,\u001b[0m \u001b[0malert_text\u001b[0m\u001b[0;34m)\u001b[0m  \u001b[0;31m# type: ignore[call-arg]  # mypy is not smart enough here\u001b[0m\u001b[0;34m\u001b[0m\u001b[0;34m\u001b[0m\u001b[0m\n\u001b[0;32m--> 243\u001b[0;31m         \u001b[0;32mraise\u001b[0m \u001b[0mexception_class\u001b[0m\u001b[0;34m(\u001b[0m\u001b[0mmessage\u001b[0m\u001b[0;34m,\u001b[0m \u001b[0mscreen\u001b[0m\u001b[0;34m,\u001b[0m \u001b[0mstacktrace\u001b[0m\u001b[0;34m)\u001b[0m\u001b[0;34m\u001b[0m\u001b[0;34m\u001b[0m\u001b[0m\n\u001b[0m\u001b[1;32m    244\u001b[0m \u001b[0;34m\u001b[0m\u001b[0m\n\u001b[1;32m    245\u001b[0m     \u001b[0;32mdef\u001b[0m \u001b[0m_value_or_default\u001b[0m\u001b[0;34m(\u001b[0m\u001b[0mself\u001b[0m\u001b[0;34m,\u001b[0m \u001b[0mobj\u001b[0m\u001b[0;34m:\u001b[0m \u001b[0mMapping\u001b[0m\u001b[0;34m[\u001b[0m\u001b[0m_KT\u001b[0m\u001b[0;34m,\u001b[0m \u001b[0m_VT\u001b[0m\u001b[0;34m]\u001b[0m\u001b[0;34m,\u001b[0m \u001b[0mkey\u001b[0m\u001b[0;34m:\u001b[0m \u001b[0m_KT\u001b[0m\u001b[0;34m,\u001b[0m \u001b[0mdefault\u001b[0m\u001b[0;34m:\u001b[0m \u001b[0m_VT\u001b[0m\u001b[0;34m)\u001b[0m \u001b[0;34m->\u001b[0m \u001b[0m_VT\u001b[0m\u001b[0;34m:\u001b[0m\u001b[0;34m\u001b[0m\u001b[0;34m\u001b[0m\u001b[0m\n",
      "\u001b[0;31mInvalidSelectorException\u001b[0m: Message: invalid selector: Unable to locate an element with the xpath expression //*[contains(concat( , @class,  ), concat( , 'ogth8A',  ))]//*[contains(concat( , @class,  ), concat( , '_38oWvQ',  ))] because of the following error:\nSyntaxError: Failed to execute 'evaluate' on 'Document': The string '//*[contains(concat( , @class,  ), concat( , 'ogth8A',  ))]//*[contains(concat( , @class,  ), concat( , '_38oWvQ',  ))]' is not a valid XPath expression.\n  (Session info: chrome=96.0.4664.93)\nStacktrace:\n0   chromedriver                        0x0000000103201269 __gxx_personality_v0 + 582729\n1   chromedriver                        0x000000010318cc33 __gxx_personality_v0 + 106003\n2   chromedriver                        0x0000000102d49e28 chromedriver + 171560\n3   chromedriver                        0x0000000102d4cca1 chromedriver + 183457\n4   chromedriver                        0x0000000102d4cac1 chromedriver + 182977\n5   chromedriver                        0x0000000102d4cd5c chromedriver + 183644\n6   chromedriver                        0x0000000102d7f0e6 chromedriver + 389350\n7   chromedriver                        0x0000000102d7f591 chromedriver + 390545\n8   chromedriver                        0x0000000102db16b4 chromedriver + 595636\n9   chromedriver                        0x0000000102d9c9fd chromedriver + 510461\n10  chromedriver                        0x0000000102daf462 chromedriver + 586850\n11  chromedriver                        0x0000000102d9cc23 chromedriver + 511011\n12  chromedriver                        0x0000000102d7275e chromedriver + 337758\n13  chromedriver                        0x0000000102d73a95 chromedriver + 342677\n14  chromedriver                        0x00000001031bd8ab __gxx_personality_v0 + 305803\n15  chromedriver                        0x00000001031d4863 __gxx_personality_v0 + 399939\n16  chromedriver                        0x00000001031d9c7f __gxx_personality_v0 + 421471\n17  chromedriver                        0x00000001031d5bba __gxx_personality_v0 + 404890\n18  chromedriver                        0x00000001031b1e51 __gxx_personality_v0 + 258097\n19  chromedriver                        0x00000001031f1158 __gxx_personality_v0 + 516920\n20  chromedriver                        0x00000001031f12e1 __gxx_personality_v0 + 517313\n21  chromedriver                        0x00000001032086f8 __gxx_personality_v0 + 612568\n22  libsystem_pthread.dylib             0x00007ff802709514 _pthread_start + 125\n23  libsystem_pthread.dylib             0x00007ff80270502f thread_start + 15\n"
     ]
    }
   ],
   "source": [
    "# find login box and click it\n",
    "browser.find_element_by_css_selector(\".ogth8A ._38oWvQ\").click()"
   ]
  },
  {
   "cell_type": "code",
   "execution_count": 99,
   "id": "a4ebedb5",
   "metadata": {},
   "outputs": [],
   "source": [
    "# after 5 seconds, the browser will close\n",
    "sleep(5)\n",
    "browser.close()"
   ]
  },
  {
   "cell_type": "markdown",
   "id": "703c4209",
   "metadata": {},
   "source": [
    "## Using Pillow for Image Processing"
   ]
  },
  {
   "cell_type": "code",
   "execution_count": 44,
   "id": "897ab877",
   "metadata": {},
   "outputs": [],
   "source": [
    "# import libraries\n",
    "from PIL import Image, ImageDraw, ImageFont"
   ]
  },
  {
   "cell_type": "code",
   "execution_count": 119,
   "id": "17cfbe4d",
   "metadata": {},
   "outputs": [],
   "source": [
    "# set name of file\n",
    "fileName = conditions[conditions['category'] == df.iloc[0]['Category']].iloc[0]['color']"
   ]
  },
  {
   "cell_type": "code",
   "execution_count": 120,
   "id": "0a8a63d4",
   "metadata": {},
   "outputs": [],
   "source": [
    "# generate saying\n",
    "saying = \"As of {month}/{day}/{year}, {time}M:\".format(month=month, day=day, year=year, time='3P')"
   ]
  },
  {
   "cell_type": "code",
   "execution_count": 121,
   "id": "22d4542b",
   "metadata": {},
   "outputs": [],
   "source": [
    "# store picture / create image object\n",
    "pic = Image.open('/Users/shelbygreen/Repositories/aq-bot/templates/{color}.png'.format(color=fileName))"
   ]
  },
  {
   "cell_type": "code",
   "execution_count": 122,
   "id": "a6776625",
   "metadata": {},
   "outputs": [],
   "source": [
    "# add saying to the picture\n",
    "# create draw object from image object\n",
    "draw = ImageDraw.Draw(pic)\n",
    "\n",
    "# add font and text size\n",
    "font = ImageFont.truetype(\"Library/Fonts/GlacialIndifference-Regular.otf\", 70)\n",
    "\n",
    "# draw on image\n",
    "draw.text((50, 350), '{saying}'.format(saying=saying), fill='#63625E', font=font)"
   ]
  },
  {
   "cell_type": "code",
   "execution_count": 123,
   "id": "8454b98e",
   "metadata": {},
   "outputs": [],
   "source": [
    "# add AQI to the picture\n",
    "# add font and text size\n",
    "font = ImageFont.truetype(\"Library/Fonts/GlacialIndifference-Bold.otf\", 150)\n",
    "\n",
    "# draw on image\n",
    "draw.text((90, 470), '{value}'.format(value=df.iloc[0]['AQI']), fill='#000000', font=font)"
   ]
  },
  {
   "cell_type": "code",
   "execution_count": 124,
   "id": "80c73b23",
   "metadata": {},
   "outputs": [],
   "source": [
    "pic.save('/Users/shelbygreen/Repositories/aq-bot/templates/test.png')"
   ]
  },
  {
   "cell_type": "code",
   "execution_count": null,
   "id": "813fccc5",
   "metadata": {},
   "outputs": [],
   "source": [
    "# add saying to the image\n",
    "\n",
    "# saying\n",
    "# font - glacial indifference; size - 99.7; height - 415px\n",
    "\n",
    "# AQI\n",
    "# font - glacial indifference; size - 99.7; height - 480px"
   ]
  }
 ],
 "metadata": {
  "kernelspec": {
   "display_name": "Python 3",
   "language": "python",
   "name": "python3"
  },
  "language_info": {
   "codemirror_mode": {
    "name": "ipython",
    "version": 3
   },
   "file_extension": ".py",
   "mimetype": "text/x-python",
   "name": "python",
   "nbconvert_exporter": "python",
   "pygments_lexer": "ipython3",
   "version": "3.8.8"
  }
 },
 "nbformat": 4,
 "nbformat_minor": 5
}
