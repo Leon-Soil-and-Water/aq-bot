{
 "cells": [
  {
   "cell_type": "code",
   "execution_count": 1,
   "id": "944fe6eb",
   "metadata": {},
   "outputs": [
    {
     "name": "stdout",
     "output_type": "stream",
     "text": [
      "Enter the time you want to post the bot: 8 or 15 21\n",
      "the AQI for 2021-12-12 9PM is 34, category 1\n",
      "adding AQI reading to the csv\n"
     ]
    }
   ],
   "source": [
    "\"\"\"\n",
    "input: time of post (AM or PM)\n",
    "output: aqi\n",
    "\"\"\"\n",
    "\n",
    "# import libraries\n",
    "import pandas as pd\n",
    "import requests\n",
    "import json\n",
    "from datetime import date\n",
    "\n",
    "# get today's date\n",
    "day = date.today().day\n",
    "month = date.today().month\n",
    "year = date.today().year\n",
    "\n",
    "# get post time\n",
    "post_time = input(\"Enter the time you want to post the bot: 8 or 15 \")\n",
    "post_time_2 = int(post_time) + 1\n",
    "        \n",
    "# pull data from AirNow\n",
    "r = requests.get('https://www.airnowapi.org/aq/data/?startDate={year}-{month}-{day}T{time1}&endDate={year}-{month}-{day}T{time2}&parameters=PM25&BBOX=-84.500651,30.275370,-84.080424,30.684863&dataType=B&format=application/json&verbose=1&monitorType=2&includerawconcentrations=0&API_KEY=2BB44069-F9EF-4CA7-8B67-C9832B168B60'.format(day = day, month = month, year = year, time1 = post_time, time2 = post_time_2)).json()\n",
    "\n",
    "# store in dataframe\n",
    "df = pd.DataFrame.from_dict(r)\n",
    "\n",
    "# clean data\n",
    "df['date'] = df['UTC'].str.split('T').str[0]\n",
    "df['time'] = df['UTC'].str.split('T').str[1]\n",
    "\n",
    "df = df.drop(['UTC'], axis=1)\n",
    "\n",
    "df['Category'] = df['Category'].astype(str)\n",
    "\n",
    "# create dataframe\n",
    "conditions = pd.DataFrame({\n",
    "    'category': ['1', '2', '3', '4', '5', '6'],\n",
    "    'status': ['good', 'moderate', 'unhealthy for sensitive groups', 'unhealthy', 'very unhealthy', 'hazardous'],\n",
    "    'color': ['green', 'yellow', 'orange', 'red', 'purple', 'maroon'],\n",
    "    'message': ['In the Tallahassee area, the air quality is \"good\". Enjoy your outdoor activities!', \n",
    "            'In the Tallahassee area, the air quality is \"moderate\". If you are sensitive to air pollution, limit your time outdoors or wear a mask.',\n",
    "            'In the Tallahassee area, the air quality is \"unhealthy for sensitive groups',\n",
    "            'In the Tallahassee area, the air quality is \"unhealthy\".',\n",
    "            'In the Tallahassee area, the air quality is \"very unhealthy',\n",
    "            'In the Tallahassee area, the air quality is \"hazardous.']\n",
    "})\n",
    "\n",
    "# add conditions to original dataframe\n",
    "def add_conditions(dataframe):\n",
    "    for i in range(len(dataframe)):\n",
    "        dataframe.loc[i, 'status'] = conditions[conditions['category'] == df.loc[i, 'Category']]['status'].loc[0]\n",
    "        dataframe.loc[i, 'color'] = conditions[conditions['category'] == df.loc[i, 'Category']]['color'].loc[0]\n",
    "        dataframe.loc[i, 'message'] = conditions[conditions['category'] == df.loc[i, 'Category']]['message'].loc[0]\n",
    "    return dataframe\n",
    "\n",
    "add_conditions(df)\n",
    "\n",
    "# get formatted time\n",
    "def format_time(post_time):\n",
    "    if post_time > 12:\n",
    "        time = post_time - 12\n",
    "        hour = str(time) + 'PM'\n",
    "    elif post_time:\n",
    "        hour = str(post_time) + 'AM'\n",
    "    return hour\n",
    "\n",
    "hour = format_time(int(post_time))\n",
    "\n",
    "# print status check\n",
    "print(\"the AQI for {day} {hour} is {AQI}, category {level}\".format(day=date.today(), hour = hour, AQI = df.iloc[0]['AQI'], level = df.iloc[0]['Category']))\n",
    "\n",
    "# print status check\n",
    "print(\"adding AQI reading to the csv\")\n",
    "\n",
    "# store data in csv\n",
    "with open('/Users/shelbygreen/Repositories/aq-bot/data/log.csv', 'a') as f:\n",
    "    df.to_csv(f, header=False)"
   ]
  },
  {
   "cell_type": "markdown",
   "id": "703c4209",
   "metadata": {},
   "source": [
    "## Using Pillow for Image Processing"
   ]
  },
  {
   "cell_type": "code",
   "execution_count": 4,
   "id": "897ab877",
   "metadata": {},
   "outputs": [],
   "source": [
    "# import libraries\n",
    "from PIL import Image, ImageDraw, ImageFont\n",
    "from datetime import date\n",
    "\n",
    "# set name of file\n",
    "fileName = conditions[conditions['category'] == df.iloc[0]['Category']].iloc[0]['color']\n",
    "\n",
    "# generate saying\n",
    "saying = \"As of {month}/{day}/{year}, {time}M:\".format(month=month, day=day, year=year, time=post_time)\n",
    "\n",
    "# store picture / create image object\n",
    "pic = Image.open('/Users/shelbygreen/Repositories/aq-bot/templates/{color}.png'.format(color=fileName))\n",
    "\n",
    "# add saying to the picture\n",
    "# create draw object from image object\n",
    "draw = ImageDraw.Draw(pic)\n",
    "\n",
    "# add font and text size\n",
    "font = ImageFont.truetype(\"Library/Fonts/GlacialIndifference-Regular.otf\", 70)\n",
    "\n",
    "# draw on image\n",
    "draw.text((50, 350), '{saying}'.format(saying=saying), fill='#63625E', font=font)\n",
    "\n",
    "# add AQI to the picture\n",
    "# add font and text size\n",
    "font = ImageFont.truetype(\"Library/Fonts/GlacialIndifference-Bold.otf\", 150)\n",
    "\n",
    "# draw on image\n",
    "draw.text((90, 470), '{value}'.format(value=df.iloc[0]['AQI']), fill='#000000', font=font)\n",
    "\n",
    "pic.save('/Users/shelbygreen/Repositories/aq-bot/finished/{month}-{day}-{year}-{post_time}.png'.format(month=month, day=day, year=year, post_time=post_time))"
   ]
  },
  {
   "cell_type": "markdown",
   "id": "24993f2f",
   "metadata": {},
   "source": [
    "## Using Twippy to post to Twitter"
   ]
  },
  {
   "cell_type": "code",
   "execution_count": 7,
   "id": "1587bc11",
   "metadata": {},
   "outputs": [
    {
     "data": {
      "text/plain": [
       "'In the Tallahassee area, the air quality is \"good\". Enjoy your outdoor activities!'"
      ]
     },
     "execution_count": 7,
     "metadata": {},
     "output_type": "execute_result"
    }
   ],
   "source": [
    "# !pip install schedule\n",
    "# tweppy\n",
    "\n",
    "df[(df['date'] == '2021-12-12') & (df['time'] == '21:00')]['message'].loc[0]"
   ]
  },
  {
   "cell_type": "code",
   "execution_count": 3,
   "id": "e78175c7",
   "metadata": {},
   "outputs": [
    {
     "name": "stdout",
     "output_type": "stream",
     "text": [
      "check1\n"
     ]
    },
    {
     "ename": "KeyError",
     "evalue": "'date'",
     "output_type": "error",
     "traceback": [
      "\u001b[0;31m---------------------------------------------------------------------------\u001b[0m",
      "\u001b[0;31mKeyError\u001b[0m                                  Traceback (most recent call last)",
      "\u001b[0;32m~/opt/anaconda3/lib/python3.8/site-packages/pandas/core/indexes/base.py\u001b[0m in \u001b[0;36mget_loc\u001b[0;34m(self, key, method, tolerance)\u001b[0m\n\u001b[1;32m   3079\u001b[0m             \u001b[0;32mtry\u001b[0m\u001b[0;34m:\u001b[0m\u001b[0;34m\u001b[0m\u001b[0;34m\u001b[0m\u001b[0m\n\u001b[0;32m-> 3080\u001b[0;31m                 \u001b[0;32mreturn\u001b[0m \u001b[0mself\u001b[0m\u001b[0;34m.\u001b[0m\u001b[0m_engine\u001b[0m\u001b[0;34m.\u001b[0m\u001b[0mget_loc\u001b[0m\u001b[0;34m(\u001b[0m\u001b[0mcasted_key\u001b[0m\u001b[0;34m)\u001b[0m\u001b[0;34m\u001b[0m\u001b[0;34m\u001b[0m\u001b[0m\n\u001b[0m\u001b[1;32m   3081\u001b[0m             \u001b[0;32mexcept\u001b[0m \u001b[0mKeyError\u001b[0m \u001b[0;32mas\u001b[0m \u001b[0merr\u001b[0m\u001b[0;34m:\u001b[0m\u001b[0;34m\u001b[0m\u001b[0;34m\u001b[0m\u001b[0m\n",
      "\u001b[0;32mpandas/_libs/index.pyx\u001b[0m in \u001b[0;36mpandas._libs.index.IndexEngine.get_loc\u001b[0;34m()\u001b[0m\n",
      "\u001b[0;32mpandas/_libs/index.pyx\u001b[0m in \u001b[0;36mpandas._libs.index.IndexEngine.get_loc\u001b[0;34m()\u001b[0m\n",
      "\u001b[0;32mpandas/_libs/hashtable_class_helper.pxi\u001b[0m in \u001b[0;36mpandas._libs.hashtable.PyObjectHashTable.get_item\u001b[0;34m()\u001b[0m\n",
      "\u001b[0;32mpandas/_libs/hashtable_class_helper.pxi\u001b[0m in \u001b[0;36mpandas._libs.hashtable.PyObjectHashTable.get_item\u001b[0;34m()\u001b[0m\n",
      "\u001b[0;31mKeyError\u001b[0m: 'date'",
      "\nThe above exception was the direct cause of the following exception:\n",
      "\u001b[0;31mKeyError\u001b[0m                                  Traceback (most recent call last)",
      "\u001b[0;32m<ipython-input-3-9415132a20ba>\u001b[0m in \u001b[0;36m<module>\u001b[0;34m\u001b[0m\n\u001b[1;32m     64\u001b[0m \u001b[0;34m\u001b[0m\u001b[0m\n\u001b[1;32m     65\u001b[0m \u001b[0;32mwhile\u001b[0m \u001b[0;32mTrue\u001b[0m\u001b[0;34m:\u001b[0m\u001b[0;34m\u001b[0m\u001b[0;34m\u001b[0m\u001b[0m\n\u001b[0;32m---> 66\u001b[0;31m     \u001b[0mschedule\u001b[0m\u001b[0;34m.\u001b[0m\u001b[0mrun_pending\u001b[0m\u001b[0;34m(\u001b[0m\u001b[0;34m)\u001b[0m\u001b[0;34m\u001b[0m\u001b[0;34m\u001b[0m\u001b[0m\n\u001b[0m\u001b[1;32m     67\u001b[0m     \u001b[0mtime\u001b[0m\u001b[0;34m.\u001b[0m\u001b[0msleep\u001b[0m\u001b[0;34m(\u001b[0m\u001b[0;36m1\u001b[0m\u001b[0;34m)\u001b[0m\u001b[0;34m\u001b[0m\u001b[0;34m\u001b[0m\u001b[0m\n",
      "\u001b[0;32m~/opt/anaconda3/lib/python3.8/site-packages/schedule/__init__.py\u001b[0m in \u001b[0;36mrun_pending\u001b[0;34m()\u001b[0m\n\u001b[1;32m    778\u001b[0m     \u001b[0;34m:\u001b[0m\u001b[0mdata\u001b[0m\u001b[0;34m:\u001b[0m\u001b[0;31m`\u001b[0m\u001b[0mdefault\u001b[0m \u001b[0mscheduler\u001b[0m \u001b[0minstance\u001b[0m \u001b[0;34m<\u001b[0m\u001b[0mdefault_scheduler\u001b[0m\u001b[0;34m>\u001b[0m\u001b[0;31m`\u001b[0m\u001b[0;34m.\u001b[0m\u001b[0;34m\u001b[0m\u001b[0;34m\u001b[0m\u001b[0m\n\u001b[1;32m    779\u001b[0m     \"\"\"\n\u001b[0;32m--> 780\u001b[0;31m     \u001b[0mdefault_scheduler\u001b[0m\u001b[0;34m.\u001b[0m\u001b[0mrun_pending\u001b[0m\u001b[0;34m(\u001b[0m\u001b[0;34m)\u001b[0m\u001b[0;34m\u001b[0m\u001b[0;34m\u001b[0m\u001b[0m\n\u001b[0m\u001b[1;32m    781\u001b[0m \u001b[0;34m\u001b[0m\u001b[0m\n\u001b[1;32m    782\u001b[0m \u001b[0;34m\u001b[0m\u001b[0m\n",
      "\u001b[0;32m~/opt/anaconda3/lib/python3.8/site-packages/schedule/__init__.py\u001b[0m in \u001b[0;36mrun_pending\u001b[0;34m(self)\u001b[0m\n\u001b[1;32m     98\u001b[0m         \u001b[0mrunnable_jobs\u001b[0m \u001b[0;34m=\u001b[0m \u001b[0;34m(\u001b[0m\u001b[0mjob\u001b[0m \u001b[0;32mfor\u001b[0m \u001b[0mjob\u001b[0m \u001b[0;32min\u001b[0m \u001b[0mself\u001b[0m\u001b[0;34m.\u001b[0m\u001b[0mjobs\u001b[0m \u001b[0;32mif\u001b[0m \u001b[0mjob\u001b[0m\u001b[0;34m.\u001b[0m\u001b[0mshould_run\u001b[0m\u001b[0;34m)\u001b[0m\u001b[0;34m\u001b[0m\u001b[0;34m\u001b[0m\u001b[0m\n\u001b[1;32m     99\u001b[0m         \u001b[0;32mfor\u001b[0m \u001b[0mjob\u001b[0m \u001b[0;32min\u001b[0m \u001b[0msorted\u001b[0m\u001b[0;34m(\u001b[0m\u001b[0mrunnable_jobs\u001b[0m\u001b[0;34m)\u001b[0m\u001b[0;34m:\u001b[0m\u001b[0;34m\u001b[0m\u001b[0;34m\u001b[0m\u001b[0m\n\u001b[0;32m--> 100\u001b[0;31m             \u001b[0mself\u001b[0m\u001b[0;34m.\u001b[0m\u001b[0m_run_job\u001b[0m\u001b[0;34m(\u001b[0m\u001b[0mjob\u001b[0m\u001b[0;34m)\u001b[0m\u001b[0;34m\u001b[0m\u001b[0;34m\u001b[0m\u001b[0m\n\u001b[0m\u001b[1;32m    101\u001b[0m \u001b[0;34m\u001b[0m\u001b[0m\n\u001b[1;32m    102\u001b[0m     \u001b[0;32mdef\u001b[0m \u001b[0mrun_all\u001b[0m\u001b[0;34m(\u001b[0m\u001b[0mself\u001b[0m\u001b[0;34m,\u001b[0m \u001b[0mdelay_seconds\u001b[0m\u001b[0;34m:\u001b[0m \u001b[0mint\u001b[0m \u001b[0;34m=\u001b[0m \u001b[0;36m0\u001b[0m\u001b[0;34m)\u001b[0m \u001b[0;34m->\u001b[0m \u001b[0;32mNone\u001b[0m\u001b[0;34m:\u001b[0m\u001b[0;34m\u001b[0m\u001b[0;34m\u001b[0m\u001b[0m\n",
      "\u001b[0;32m~/opt/anaconda3/lib/python3.8/site-packages/schedule/__init__.py\u001b[0m in \u001b[0;36m_run_job\u001b[0;34m(self, job)\u001b[0m\n\u001b[1;32m    170\u001b[0m \u001b[0;34m\u001b[0m\u001b[0m\n\u001b[1;32m    171\u001b[0m     \u001b[0;32mdef\u001b[0m \u001b[0m_run_job\u001b[0m\u001b[0;34m(\u001b[0m\u001b[0mself\u001b[0m\u001b[0;34m,\u001b[0m \u001b[0mjob\u001b[0m\u001b[0;34m:\u001b[0m \u001b[0;34m\"Job\"\u001b[0m\u001b[0;34m)\u001b[0m \u001b[0;34m->\u001b[0m \u001b[0;32mNone\u001b[0m\u001b[0;34m:\u001b[0m\u001b[0;34m\u001b[0m\u001b[0;34m\u001b[0m\u001b[0m\n\u001b[0;32m--> 172\u001b[0;31m         \u001b[0mret\u001b[0m \u001b[0;34m=\u001b[0m \u001b[0mjob\u001b[0m\u001b[0;34m.\u001b[0m\u001b[0mrun\u001b[0m\u001b[0;34m(\u001b[0m\u001b[0;34m)\u001b[0m\u001b[0;34m\u001b[0m\u001b[0;34m\u001b[0m\u001b[0m\n\u001b[0m\u001b[1;32m    173\u001b[0m         \u001b[0;32mif\u001b[0m \u001b[0misinstance\u001b[0m\u001b[0;34m(\u001b[0m\u001b[0mret\u001b[0m\u001b[0;34m,\u001b[0m \u001b[0mCancelJob\u001b[0m\u001b[0;34m)\u001b[0m \u001b[0;32mor\u001b[0m \u001b[0mret\u001b[0m \u001b[0;32mis\u001b[0m \u001b[0mCancelJob\u001b[0m\u001b[0;34m:\u001b[0m\u001b[0;34m\u001b[0m\u001b[0;34m\u001b[0m\u001b[0m\n\u001b[1;32m    174\u001b[0m             \u001b[0mself\u001b[0m\u001b[0;34m.\u001b[0m\u001b[0mcancel_job\u001b[0m\u001b[0;34m(\u001b[0m\u001b[0mjob\u001b[0m\u001b[0;34m)\u001b[0m\u001b[0;34m\u001b[0m\u001b[0;34m\u001b[0m\u001b[0m\n",
      "\u001b[0;32m~/opt/anaconda3/lib/python3.8/site-packages/schedule/__init__.py\u001b[0m in \u001b[0;36mrun\u001b[0;34m(self)\u001b[0m\n\u001b[1;32m    659\u001b[0m \u001b[0;34m\u001b[0m\u001b[0m\n\u001b[1;32m    660\u001b[0m         \u001b[0mlogger\u001b[0m\u001b[0;34m.\u001b[0m\u001b[0mdebug\u001b[0m\u001b[0;34m(\u001b[0m\u001b[0;34m\"Running job %s\"\u001b[0m\u001b[0;34m,\u001b[0m \u001b[0mself\u001b[0m\u001b[0;34m)\u001b[0m\u001b[0;34m\u001b[0m\u001b[0;34m\u001b[0m\u001b[0m\n\u001b[0;32m--> 661\u001b[0;31m         \u001b[0mret\u001b[0m \u001b[0;34m=\u001b[0m \u001b[0mself\u001b[0m\u001b[0;34m.\u001b[0m\u001b[0mjob_func\u001b[0m\u001b[0;34m(\u001b[0m\u001b[0;34m)\u001b[0m\u001b[0;34m\u001b[0m\u001b[0;34m\u001b[0m\u001b[0m\n\u001b[0m\u001b[1;32m    662\u001b[0m         \u001b[0mself\u001b[0m\u001b[0;34m.\u001b[0m\u001b[0mlast_run\u001b[0m \u001b[0;34m=\u001b[0m \u001b[0mdatetime\u001b[0m\u001b[0;34m.\u001b[0m\u001b[0mdatetime\u001b[0m\u001b[0;34m.\u001b[0m\u001b[0mnow\u001b[0m\u001b[0;34m(\u001b[0m\u001b[0;34m)\u001b[0m\u001b[0;34m\u001b[0m\u001b[0;34m\u001b[0m\u001b[0m\n\u001b[1;32m    663\u001b[0m         \u001b[0mself\u001b[0m\u001b[0;34m.\u001b[0m\u001b[0m_schedule_next_run\u001b[0m\u001b[0;34m(\u001b[0m\u001b[0;34m)\u001b[0m\u001b[0;34m\u001b[0m\u001b[0;34m\u001b[0m\u001b[0m\n",
      "\u001b[0;32m<ipython-input-2-baeffc6a3bea>\u001b[0m in \u001b[0;36mjob\u001b[0;34m()\u001b[0m\n\u001b[1;32m     20\u001b[0m     \u001b[0mtweet_hour\u001b[0m \u001b[0;34m=\u001b[0m \u001b[0;34m'{time}'\u001b[0m\u001b[0;34m.\u001b[0m\u001b[0mformat\u001b[0m\u001b[0;34m(\u001b[0m\u001b[0mtime\u001b[0m\u001b[0;34m=\u001b[0m\u001b[0mtime\u001b[0m\u001b[0;34m)\u001b[0m\u001b[0;34m\u001b[0m\u001b[0;34m\u001b[0m\u001b[0m\n\u001b[1;32m     21\u001b[0m     \u001b[0mtweet_time\u001b[0m \u001b[0;34m=\u001b[0m \u001b[0;34m'{time}:00'\u001b[0m\u001b[0;34m.\u001b[0m\u001b[0mformat\u001b[0m\u001b[0;34m(\u001b[0m\u001b[0mtime\u001b[0m\u001b[0;34m=\u001b[0m\u001b[0mpost_time\u001b[0m\u001b[0;34m)\u001b[0m\u001b[0;34m\u001b[0m\u001b[0;34m\u001b[0m\u001b[0m\n\u001b[0;32m---> 22\u001b[0;31m     \u001b[0mtweet_msg\u001b[0m \u001b[0;34m=\u001b[0m \u001b[0mdf\u001b[0m\u001b[0;34m[\u001b[0m\u001b[0;34m(\u001b[0m\u001b[0mdf\u001b[0m\u001b[0;34m[\u001b[0m\u001b[0;34m'date'\u001b[0m\u001b[0;34m]\u001b[0m \u001b[0;34m==\u001b[0m \u001b[0mtweet_date\u001b[0m\u001b[0;34m)\u001b[0m \u001b[0;34m&\u001b[0m \u001b[0;34m(\u001b[0m\u001b[0mdf\u001b[0m\u001b[0;34m[\u001b[0m\u001b[0;34m'time'\u001b[0m\u001b[0;34m]\u001b[0m \u001b[0;34m==\u001b[0m \u001b[0mtweet_time\u001b[0m\u001b[0;34m)\u001b[0m\u001b[0;34m]\u001b[0m\u001b[0;34m[\u001b[0m\u001b[0;34m'message'\u001b[0m\u001b[0;34m]\u001b[0m\u001b[0;34m.\u001b[0m\u001b[0mloc\u001b[0m\u001b[0;34m[\u001b[0m\u001b[0;36m0\u001b[0m\u001b[0;34m]\u001b[0m\u001b[0;34m\u001b[0m\u001b[0;34m\u001b[0m\u001b[0m\n\u001b[0m\u001b[1;32m     23\u001b[0m \u001b[0;34m\u001b[0m\u001b[0m\n\u001b[1;32m     24\u001b[0m     \u001b[0;31m# read YAML file\u001b[0m\u001b[0;34m\u001b[0m\u001b[0;34m\u001b[0m\u001b[0;34m\u001b[0m\u001b[0m\n",
      "\u001b[0;32m~/opt/anaconda3/lib/python3.8/site-packages/pandas/core/frame.py\u001b[0m in \u001b[0;36m__getitem__\u001b[0;34m(self, key)\u001b[0m\n\u001b[1;32m   3022\u001b[0m             \u001b[0;32mif\u001b[0m \u001b[0mself\u001b[0m\u001b[0;34m.\u001b[0m\u001b[0mcolumns\u001b[0m\u001b[0;34m.\u001b[0m\u001b[0mnlevels\u001b[0m \u001b[0;34m>\u001b[0m \u001b[0;36m1\u001b[0m\u001b[0;34m:\u001b[0m\u001b[0;34m\u001b[0m\u001b[0;34m\u001b[0m\u001b[0m\n\u001b[1;32m   3023\u001b[0m                 \u001b[0;32mreturn\u001b[0m \u001b[0mself\u001b[0m\u001b[0;34m.\u001b[0m\u001b[0m_getitem_multilevel\u001b[0m\u001b[0;34m(\u001b[0m\u001b[0mkey\u001b[0m\u001b[0;34m)\u001b[0m\u001b[0;34m\u001b[0m\u001b[0;34m\u001b[0m\u001b[0m\n\u001b[0;32m-> 3024\u001b[0;31m             \u001b[0mindexer\u001b[0m \u001b[0;34m=\u001b[0m \u001b[0mself\u001b[0m\u001b[0;34m.\u001b[0m\u001b[0mcolumns\u001b[0m\u001b[0;34m.\u001b[0m\u001b[0mget_loc\u001b[0m\u001b[0;34m(\u001b[0m\u001b[0mkey\u001b[0m\u001b[0;34m)\u001b[0m\u001b[0;34m\u001b[0m\u001b[0;34m\u001b[0m\u001b[0m\n\u001b[0m\u001b[1;32m   3025\u001b[0m             \u001b[0;32mif\u001b[0m \u001b[0mis_integer\u001b[0m\u001b[0;34m(\u001b[0m\u001b[0mindexer\u001b[0m\u001b[0;34m)\u001b[0m\u001b[0;34m:\u001b[0m\u001b[0;34m\u001b[0m\u001b[0;34m\u001b[0m\u001b[0m\n\u001b[1;32m   3026\u001b[0m                 \u001b[0mindexer\u001b[0m \u001b[0;34m=\u001b[0m \u001b[0;34m[\u001b[0m\u001b[0mindexer\u001b[0m\u001b[0;34m]\u001b[0m\u001b[0;34m\u001b[0m\u001b[0;34m\u001b[0m\u001b[0m\n",
      "\u001b[0;32m~/opt/anaconda3/lib/python3.8/site-packages/pandas/core/indexes/base.py\u001b[0m in \u001b[0;36mget_loc\u001b[0;34m(self, key, method, tolerance)\u001b[0m\n\u001b[1;32m   3080\u001b[0m                 \u001b[0;32mreturn\u001b[0m \u001b[0mself\u001b[0m\u001b[0;34m.\u001b[0m\u001b[0m_engine\u001b[0m\u001b[0;34m.\u001b[0m\u001b[0mget_loc\u001b[0m\u001b[0;34m(\u001b[0m\u001b[0mcasted_key\u001b[0m\u001b[0;34m)\u001b[0m\u001b[0;34m\u001b[0m\u001b[0;34m\u001b[0m\u001b[0m\n\u001b[1;32m   3081\u001b[0m             \u001b[0;32mexcept\u001b[0m \u001b[0mKeyError\u001b[0m \u001b[0;32mas\u001b[0m \u001b[0merr\u001b[0m\u001b[0;34m:\u001b[0m\u001b[0;34m\u001b[0m\u001b[0;34m\u001b[0m\u001b[0m\n\u001b[0;32m-> 3082\u001b[0;31m                 \u001b[0;32mraise\u001b[0m \u001b[0mKeyError\u001b[0m\u001b[0;34m(\u001b[0m\u001b[0mkey\u001b[0m\u001b[0;34m)\u001b[0m \u001b[0;32mfrom\u001b[0m \u001b[0merr\u001b[0m\u001b[0;34m\u001b[0m\u001b[0;34m\u001b[0m\u001b[0m\n\u001b[0m\u001b[1;32m   3083\u001b[0m \u001b[0;34m\u001b[0m\u001b[0m\n\u001b[1;32m   3084\u001b[0m         \u001b[0;32mif\u001b[0m \u001b[0mtolerance\u001b[0m \u001b[0;32mis\u001b[0m \u001b[0;32mnot\u001b[0m \u001b[0;32mNone\u001b[0m\u001b[0;34m:\u001b[0m\u001b[0;34m\u001b[0m\u001b[0;34m\u001b[0m\u001b[0m\n",
      "\u001b[0;31mKeyError\u001b[0m: 'date'"
     ]
    }
   ],
   "source": [
    "# import libraries\n",
    "import pandas as pd\n",
    "import tweepy \n",
    "import io\n",
    "import time\n",
    "import requests\n",
    "import os\n",
    "import yaml\n",
    "import schedule\n",
    "from datetime import date\n",
    "\n",
    "# import csv\n",
    "df = pd.read_csv('/Users/shelbygreen/Repositories/aq-bot/data/log.csv')\n",
    "\n",
    "def job():\n",
    "    print(\"check1\")\n",
    "    \n",
    "    # get tweet wording\n",
    "    tweet_date = '{year}-{month}-{day}'.format(year=year, month=month, day=day)\n",
    "    tweet_hour = '{time}'.format(time=time)\n",
    "    tweet_time = '{time}:00'.format(time=post_time)\n",
    "    tweet_msg = df[(df['date'] == tweet_date) & (df['time'] == tweet_time)]['message'].loc[0]\n",
    "\n",
    "    # read YAML file\n",
    "    yaml_file = open(\"/Users/shelbygreen/Repositories/aq-bot/keys.yaml\")\n",
    "    parsed_yaml_file = yaml.load(yaml_file)\n",
    "    \n",
    "    print(\"check2\")\n",
    "\n",
    "    # twitter authorization function\n",
    "    def twitter_api():\n",
    "      auth = tweepy.OAuthHandler(parsed_yaml_file[\"consumer_key\"], parsed_yaml_file[\"consumer_secret\"])\n",
    "      auth.set_access_token(parsed_yaml_file[\"access_token\"], parsed_yaml_file[\"access_token_secret\"])\n",
    "      api = tweepy.API(auth)\n",
    "      return api\n",
    "\n",
    "    # post tweet function\n",
    "    def post_tweet():\n",
    "      api = twitter_api()\n",
    "\n",
    "      for index, row in df.iterrows():\n",
    "            if int(time) <= 12:\n",
    "                # make morning msg\n",
    "                full_tweet = 'Good morning ☀️' + tweet_msg\n",
    "                # make tweet\n",
    "                api.update_with_media('{tweet_date}-{time}.png'.format(tweet_date=tweet_date, time=time), status=tweet_msg)\n",
    "            else:\n",
    "                # make afternoon msg\n",
    "                full_tweet = 'Good afternoon 🍂' + tweet_msg\n",
    "                # make tweet\n",
    "                api.update_with_media('{tweet_date}-{time}.png'.format(tweet_date=tweet_date, time=time), status=tweet_msg)\n",
    "\n",
    "    print(\"check3\")\n",
    "    #post tweet\n",
    "    post_tweet()\n",
    "\n",
    "\n",
    "# run everyday at 8am and 3pm\n",
    "schedule.every().day.at(\"07:59\").do(job)\n",
    "\n",
    "schedule.every().day.at(\"14:59\").do(job)\n",
    "\n",
    "schedule.every().day.at(\"21:16\").do(job)\n",
    "\n",
    "while True:\n",
    "    schedule.run_pending()\n",
    "    time.sleep(1)"
   ]
  },
  {
   "cell_type": "markdown",
   "id": "1abb4c7d",
   "metadata": {},
   "source": [
    "## Using Selenium to access Canva -- Didn't Work!"
   ]
  },
  {
   "cell_type": "code",
   "execution_count": 1,
   "id": "12da7f7c",
   "metadata": {},
   "outputs": [
    {
     "name": "stdout",
     "output_type": "stream",
     "text": [
      "Requirement already satisfied: selenium in /Users/shelbygreen/opt/anaconda3/lib/python3.8/site-packages (4.0.0)\n",
      "Requirement already satisfied: trio~=0.17 in /Users/shelbygreen/opt/anaconda3/lib/python3.8/site-packages (from selenium) (0.19.0)\n",
      "Requirement already satisfied: urllib3[secure]~=1.26 in /Users/shelbygreen/opt/anaconda3/lib/python3.8/site-packages (from selenium) (1.26.4)\n",
      "Requirement already satisfied: trio-websocket~=0.9 in /Users/shelbygreen/opt/anaconda3/lib/python3.8/site-packages (from selenium) (0.9.2)\n",
      "Requirement already satisfied: outcome in /Users/shelbygreen/opt/anaconda3/lib/python3.8/site-packages (from trio~=0.17->selenium) (1.1.0)\n",
      "Requirement already satisfied: sortedcontainers in /Users/shelbygreen/opt/anaconda3/lib/python3.8/site-packages (from trio~=0.17->selenium) (2.3.0)\n",
      "Requirement already satisfied: idna in /Users/shelbygreen/opt/anaconda3/lib/python3.8/site-packages (from trio~=0.17->selenium) (2.10)\n",
      "Requirement already satisfied: async-generator>=1.9 in /Users/shelbygreen/opt/anaconda3/lib/python3.8/site-packages (from trio~=0.17->selenium) (1.10)\n",
      "Requirement already satisfied: sniffio in /Users/shelbygreen/opt/anaconda3/lib/python3.8/site-packages (from trio~=0.17->selenium) (1.2.0)\n",
      "Requirement already satisfied: attrs>=19.2.0 in /Users/shelbygreen/opt/anaconda3/lib/python3.8/site-packages (from trio~=0.17->selenium) (20.3.0)\n",
      "Requirement already satisfied: wsproto>=0.14 in /Users/shelbygreen/opt/anaconda3/lib/python3.8/site-packages (from trio-websocket~=0.9->selenium) (1.0.0)\n",
      "Requirement already satisfied: pyOpenSSL>=0.14 in /Users/shelbygreen/opt/anaconda3/lib/python3.8/site-packages (from urllib3[secure]~=1.26->selenium) (20.0.1)\n",
      "Requirement already satisfied: certifi in /Users/shelbygreen/opt/anaconda3/lib/python3.8/site-packages (from urllib3[secure]~=1.26->selenium) (2020.12.5)\n",
      "Requirement already satisfied: cryptography>=1.3.4 in /Users/shelbygreen/opt/anaconda3/lib/python3.8/site-packages (from urllib3[secure]~=1.26->selenium) (3.4.7)\n",
      "Requirement already satisfied: cffi>=1.12 in /Users/shelbygreen/opt/anaconda3/lib/python3.8/site-packages (from cryptography>=1.3.4->urllib3[secure]~=1.26->selenium) (1.14.5)\n",
      "Requirement already satisfied: pycparser in /Users/shelbygreen/opt/anaconda3/lib/python3.8/site-packages (from cffi>=1.12->cryptography>=1.3.4->urllib3[secure]~=1.26->selenium) (2.20)\n",
      "Requirement already satisfied: six>=1.5.2 in /Users/shelbygreen/opt/anaconda3/lib/python3.8/site-packages (from pyOpenSSL>=0.14->urllib3[secure]~=1.26->selenium) (1.15.0)\n",
      "Requirement already satisfied: h11<1,>=0.9.0 in /Users/shelbygreen/opt/anaconda3/lib/python3.8/site-packages (from wsproto>=0.14->trio-websocket~=0.9->selenium) (0.12.0)\n"
     ]
    }
   ],
   "source": [
    "!pip install selenium\n",
    "\n",
    "# and download driver and store in working directory"
   ]
  },
  {
   "cell_type": "code",
   "execution_count": 12,
   "id": "12c8f6ef",
   "metadata": {},
   "outputs": [],
   "source": [
    "from selenium import webdriver # selenium\n",
    "from time import sleep"
   ]
  },
  {
   "cell_type": "code",
   "execution_count": 77,
   "id": "f020f517",
   "metadata": {},
   "outputs": [],
   "source": [
    "# define canva log-in credentials\n",
    "userName = 'greenshelby@gmail.com'\n",
    "passWord = '#Sgcaca21!'"
   ]
  },
  {
   "cell_type": "code",
   "execution_count": 92,
   "id": "24510314",
   "metadata": {},
   "outputs": [
    {
     "name": "stderr",
     "output_type": "stream",
     "text": [
      "<ipython-input-92-3f0371f94d1f>:3: DeprecationWarning: executable_path has been deprecated, please pass in a Service object\n",
      "  browser = webdriver.Chrome('./chromedriver')\n"
     ]
    }
   ],
   "source": [
    "# define browser\n",
    "# this will open Google Chrome to a page called \"data:,\"\n",
    "browser = webdriver.Chrome('./chromedriver')"
   ]
  },
  {
   "cell_type": "code",
   "execution_count": 93,
   "id": "67839ddb",
   "metadata": {},
   "outputs": [],
   "source": [
    "# the browser will navigate to this website\n",
    "browser.get(\"http://www.canva.com/login\")"
   ]
  },
  {
   "cell_type": "code",
   "execution_count": 95,
   "id": "029e8f25",
   "metadata": {},
   "outputs": [
    {
     "name": "stderr",
     "output_type": "stream",
     "text": [
      "<ipython-input-95-ddc8534fb8a1>:2: DeprecationWarning: find_element_by_* commands are deprecated. Please use find_element() instead\n",
      "  browser.find_element_by_xpath(\"//*[(@id = '__a11yId21')]\").send_keys(userName)\n"
     ]
    }
   ],
   "source": [
    "# find email box and enter email\n",
    "browser.find_element_by_xpath(\"//*[(@id = '__a11yId21')]\").send_keys(userName)"
   ]
  },
  {
   "cell_type": "code",
   "execution_count": 97,
   "id": "adbccd8a",
   "metadata": {},
   "outputs": [
    {
     "name": "stderr",
     "output_type": "stream",
     "text": [
      "<ipython-input-97-1619a2c6f60b>:2: DeprecationWarning: find_element_by_* commands are deprecated. Please use find_element() instead\n",
      "  browser.find_element_by_xpath(\"//*[(@id = '__a11yId24')]\").send_keys(passWord)\n"
     ]
    }
   ],
   "source": [
    "# find password box and enter password\n",
    "browser.find_element_by_xpath(\"//*[(@id = '__a11yId24')]\").send_keys(passWord)"
   ]
  },
  {
   "cell_type": "code",
   "execution_count": 98,
   "id": "fde95cc8",
   "metadata": {},
   "outputs": [
    {
     "name": "stderr",
     "output_type": "stream",
     "text": [
      "<ipython-input-98-540c91a51a83>:2: DeprecationWarning: find_element_by_* commands are deprecated. Please use find_element() instead\n",
      "  browser.find_element_by_xpath(\"//*[contains(concat( \" \", @class, \" \" ), concat( \" \", 'ogth8A', \" \" ))]//*[contains(concat( \" \", @class, \" \" ), concat( \" \", '_38oWvQ', \" \" ))]\").click()\n"
     ]
    },
    {
     "ename": "InvalidSelectorException",
     "evalue": "Message: invalid selector: Unable to locate an element with the xpath expression //*[contains(concat( , @class,  ), concat( , 'ogth8A',  ))]//*[contains(concat( , @class,  ), concat( , '_38oWvQ',  ))] because of the following error:\nSyntaxError: Failed to execute 'evaluate' on 'Document': The string '//*[contains(concat( , @class,  ), concat( , 'ogth8A',  ))]//*[contains(concat( , @class,  ), concat( , '_38oWvQ',  ))]' is not a valid XPath expression.\n  (Session info: chrome=96.0.4664.93)\nStacktrace:\n0   chromedriver                        0x0000000103201269 __gxx_personality_v0 + 582729\n1   chromedriver                        0x000000010318cc33 __gxx_personality_v0 + 106003\n2   chromedriver                        0x0000000102d49e28 chromedriver + 171560\n3   chromedriver                        0x0000000102d4cca1 chromedriver + 183457\n4   chromedriver                        0x0000000102d4cac1 chromedriver + 182977\n5   chromedriver                        0x0000000102d4cd5c chromedriver + 183644\n6   chromedriver                        0x0000000102d7f0e6 chromedriver + 389350\n7   chromedriver                        0x0000000102d7f591 chromedriver + 390545\n8   chromedriver                        0x0000000102db16b4 chromedriver + 595636\n9   chromedriver                        0x0000000102d9c9fd chromedriver + 510461\n10  chromedriver                        0x0000000102daf462 chromedriver + 586850\n11  chromedriver                        0x0000000102d9cc23 chromedriver + 511011\n12  chromedriver                        0x0000000102d7275e chromedriver + 337758\n13  chromedriver                        0x0000000102d73a95 chromedriver + 342677\n14  chromedriver                        0x00000001031bd8ab __gxx_personality_v0 + 305803\n15  chromedriver                        0x00000001031d4863 __gxx_personality_v0 + 399939\n16  chromedriver                        0x00000001031d9c7f __gxx_personality_v0 + 421471\n17  chromedriver                        0x00000001031d5bba __gxx_personality_v0 + 404890\n18  chromedriver                        0x00000001031b1e51 __gxx_personality_v0 + 258097\n19  chromedriver                        0x00000001031f1158 __gxx_personality_v0 + 516920\n20  chromedriver                        0x00000001031f12e1 __gxx_personality_v0 + 517313\n21  chromedriver                        0x00000001032086f8 __gxx_personality_v0 + 612568\n22  libsystem_pthread.dylib             0x00007ff802709514 _pthread_start + 125\n23  libsystem_pthread.dylib             0x00007ff80270502f thread_start + 15\n",
     "output_type": "error",
     "traceback": [
      "\u001b[0;31m---------------------------------------------------------------------------\u001b[0m",
      "\u001b[0;31mInvalidSelectorException\u001b[0m                  Traceback (most recent call last)",
      "\u001b[0;32m<ipython-input-98-540c91a51a83>\u001b[0m in \u001b[0;36m<module>\u001b[0;34m\u001b[0m\n\u001b[1;32m      1\u001b[0m \u001b[0;31m# find login box and click it\u001b[0m\u001b[0;34m\u001b[0m\u001b[0;34m\u001b[0m\u001b[0;34m\u001b[0m\u001b[0m\n\u001b[0;32m----> 2\u001b[0;31m \u001b[0mbrowser\u001b[0m\u001b[0;34m.\u001b[0m\u001b[0mfind_element_by_xpath\u001b[0m\u001b[0;34m(\u001b[0m\u001b[0;34m\"//*[contains(concat( \"\u001b[0m \u001b[0;34m\", @class, \"\u001b[0m \u001b[0;34m\" ), concat( \"\u001b[0m \u001b[0;34m\", 'ogth8A', \"\u001b[0m \u001b[0;34m\" ))]//*[contains(concat( \"\u001b[0m \u001b[0;34m\", @class, \"\u001b[0m \u001b[0;34m\" ), concat( \"\u001b[0m \u001b[0;34m\", '_38oWvQ', \"\u001b[0m \u001b[0;34m\" ))]\"\u001b[0m\u001b[0;34m)\u001b[0m\u001b[0;34m.\u001b[0m\u001b[0mclick\u001b[0m\u001b[0;34m(\u001b[0m\u001b[0;34m)\u001b[0m\u001b[0;34m\u001b[0m\u001b[0;34m\u001b[0m\u001b[0m\n\u001b[0m",
      "\u001b[0;32m~/opt/anaconda3/lib/python3.8/site-packages/selenium/webdriver/remote/webdriver.py\u001b[0m in \u001b[0;36mfind_element_by_xpath\u001b[0;34m(self, xpath)\u001b[0m\n\u001b[1;32m    512\u001b[0m             \u001b[0mstacklevel\u001b[0m\u001b[0;34m=\u001b[0m\u001b[0;36m2\u001b[0m\u001b[0;34m,\u001b[0m\u001b[0;34m\u001b[0m\u001b[0;34m\u001b[0m\u001b[0m\n\u001b[1;32m    513\u001b[0m         )\n\u001b[0;32m--> 514\u001b[0;31m         \u001b[0;32mreturn\u001b[0m \u001b[0mself\u001b[0m\u001b[0;34m.\u001b[0m\u001b[0mfind_element\u001b[0m\u001b[0;34m(\u001b[0m\u001b[0mby\u001b[0m\u001b[0;34m=\u001b[0m\u001b[0mBy\u001b[0m\u001b[0;34m.\u001b[0m\u001b[0mXPATH\u001b[0m\u001b[0;34m,\u001b[0m \u001b[0mvalue\u001b[0m\u001b[0;34m=\u001b[0m\u001b[0mxpath\u001b[0m\u001b[0;34m)\u001b[0m\u001b[0;34m\u001b[0m\u001b[0;34m\u001b[0m\u001b[0m\n\u001b[0m\u001b[1;32m    515\u001b[0m \u001b[0;34m\u001b[0m\u001b[0m\n\u001b[1;32m    516\u001b[0m     \u001b[0;32mdef\u001b[0m \u001b[0mfind_elements_by_xpath\u001b[0m\u001b[0;34m(\u001b[0m\u001b[0mself\u001b[0m\u001b[0;34m,\u001b[0m \u001b[0mxpath\u001b[0m\u001b[0;34m)\u001b[0m \u001b[0;34m->\u001b[0m \u001b[0mWebElement\u001b[0m\u001b[0;34m:\u001b[0m\u001b[0;34m\u001b[0m\u001b[0;34m\u001b[0m\u001b[0m\n",
      "\u001b[0;32m~/opt/anaconda3/lib/python3.8/site-packages/selenium/webdriver/remote/webdriver.py\u001b[0m in \u001b[0;36mfind_element\u001b[0;34m(self, by, value)\u001b[0m\n\u001b[1;32m   1236\u001b[0m             \u001b[0mvalue\u001b[0m \u001b[0;34m=\u001b[0m \u001b[0;34m'[name=\"%s\"]'\u001b[0m \u001b[0;34m%\u001b[0m \u001b[0mvalue\u001b[0m\u001b[0;34m\u001b[0m\u001b[0;34m\u001b[0m\u001b[0m\n\u001b[1;32m   1237\u001b[0m \u001b[0;34m\u001b[0m\u001b[0m\n\u001b[0;32m-> 1238\u001b[0;31m         return self.execute(Command.FIND_ELEMENT, {\n\u001b[0m\u001b[1;32m   1239\u001b[0m             \u001b[0;34m'using'\u001b[0m\u001b[0;34m:\u001b[0m \u001b[0mby\u001b[0m\u001b[0;34m,\u001b[0m\u001b[0;34m\u001b[0m\u001b[0;34m\u001b[0m\u001b[0m\n\u001b[1;32m   1240\u001b[0m             'value': value})['value']\n",
      "\u001b[0;32m~/opt/anaconda3/lib/python3.8/site-packages/selenium/webdriver/remote/webdriver.py\u001b[0m in \u001b[0;36mexecute\u001b[0;34m(self, driver_command, params)\u001b[0m\n\u001b[1;32m    416\u001b[0m         \u001b[0mresponse\u001b[0m \u001b[0;34m=\u001b[0m \u001b[0mself\u001b[0m\u001b[0;34m.\u001b[0m\u001b[0mcommand_executor\u001b[0m\u001b[0;34m.\u001b[0m\u001b[0mexecute\u001b[0m\u001b[0;34m(\u001b[0m\u001b[0mdriver_command\u001b[0m\u001b[0;34m,\u001b[0m \u001b[0mparams\u001b[0m\u001b[0;34m)\u001b[0m\u001b[0;34m\u001b[0m\u001b[0;34m\u001b[0m\u001b[0m\n\u001b[1;32m    417\u001b[0m         \u001b[0;32mif\u001b[0m \u001b[0mresponse\u001b[0m\u001b[0;34m:\u001b[0m\u001b[0;34m\u001b[0m\u001b[0;34m\u001b[0m\u001b[0m\n\u001b[0;32m--> 418\u001b[0;31m             \u001b[0mself\u001b[0m\u001b[0;34m.\u001b[0m\u001b[0merror_handler\u001b[0m\u001b[0;34m.\u001b[0m\u001b[0mcheck_response\u001b[0m\u001b[0;34m(\u001b[0m\u001b[0mresponse\u001b[0m\u001b[0;34m)\u001b[0m\u001b[0;34m\u001b[0m\u001b[0;34m\u001b[0m\u001b[0m\n\u001b[0m\u001b[1;32m    419\u001b[0m             response['value'] = self._unwrap_value(\n\u001b[1;32m    420\u001b[0m                 response.get('value', None))\n",
      "\u001b[0;32m~/opt/anaconda3/lib/python3.8/site-packages/selenium/webdriver/remote/errorhandler.py\u001b[0m in \u001b[0;36mcheck_response\u001b[0;34m(self, response)\u001b[0m\n\u001b[1;32m    241\u001b[0m                 \u001b[0malert_text\u001b[0m \u001b[0;34m=\u001b[0m \u001b[0mvalue\u001b[0m\u001b[0;34m[\u001b[0m\u001b[0;34m'alert'\u001b[0m\u001b[0;34m]\u001b[0m\u001b[0;34m.\u001b[0m\u001b[0mget\u001b[0m\u001b[0;34m(\u001b[0m\u001b[0;34m'text'\u001b[0m\u001b[0;34m)\u001b[0m\u001b[0;34m\u001b[0m\u001b[0;34m\u001b[0m\u001b[0m\n\u001b[1;32m    242\u001b[0m             \u001b[0;32mraise\u001b[0m \u001b[0mexception_class\u001b[0m\u001b[0;34m(\u001b[0m\u001b[0mmessage\u001b[0m\u001b[0;34m,\u001b[0m \u001b[0mscreen\u001b[0m\u001b[0;34m,\u001b[0m \u001b[0mstacktrace\u001b[0m\u001b[0;34m,\u001b[0m \u001b[0malert_text\u001b[0m\u001b[0;34m)\u001b[0m  \u001b[0;31m# type: ignore[call-arg]  # mypy is not smart enough here\u001b[0m\u001b[0;34m\u001b[0m\u001b[0;34m\u001b[0m\u001b[0m\n\u001b[0;32m--> 243\u001b[0;31m         \u001b[0;32mraise\u001b[0m \u001b[0mexception_class\u001b[0m\u001b[0;34m(\u001b[0m\u001b[0mmessage\u001b[0m\u001b[0;34m,\u001b[0m \u001b[0mscreen\u001b[0m\u001b[0;34m,\u001b[0m \u001b[0mstacktrace\u001b[0m\u001b[0;34m)\u001b[0m\u001b[0;34m\u001b[0m\u001b[0;34m\u001b[0m\u001b[0m\n\u001b[0m\u001b[1;32m    244\u001b[0m \u001b[0;34m\u001b[0m\u001b[0m\n\u001b[1;32m    245\u001b[0m     \u001b[0;32mdef\u001b[0m \u001b[0m_value_or_default\u001b[0m\u001b[0;34m(\u001b[0m\u001b[0mself\u001b[0m\u001b[0;34m,\u001b[0m \u001b[0mobj\u001b[0m\u001b[0;34m:\u001b[0m \u001b[0mMapping\u001b[0m\u001b[0;34m[\u001b[0m\u001b[0m_KT\u001b[0m\u001b[0;34m,\u001b[0m \u001b[0m_VT\u001b[0m\u001b[0;34m]\u001b[0m\u001b[0;34m,\u001b[0m \u001b[0mkey\u001b[0m\u001b[0;34m:\u001b[0m \u001b[0m_KT\u001b[0m\u001b[0;34m,\u001b[0m \u001b[0mdefault\u001b[0m\u001b[0;34m:\u001b[0m \u001b[0m_VT\u001b[0m\u001b[0;34m)\u001b[0m \u001b[0;34m->\u001b[0m \u001b[0m_VT\u001b[0m\u001b[0;34m:\u001b[0m\u001b[0;34m\u001b[0m\u001b[0;34m\u001b[0m\u001b[0m\n",
      "\u001b[0;31mInvalidSelectorException\u001b[0m: Message: invalid selector: Unable to locate an element with the xpath expression //*[contains(concat( , @class,  ), concat( , 'ogth8A',  ))]//*[contains(concat( , @class,  ), concat( , '_38oWvQ',  ))] because of the following error:\nSyntaxError: Failed to execute 'evaluate' on 'Document': The string '//*[contains(concat( , @class,  ), concat( , 'ogth8A',  ))]//*[contains(concat( , @class,  ), concat( , '_38oWvQ',  ))]' is not a valid XPath expression.\n  (Session info: chrome=96.0.4664.93)\nStacktrace:\n0   chromedriver                        0x0000000103201269 __gxx_personality_v0 + 582729\n1   chromedriver                        0x000000010318cc33 __gxx_personality_v0 + 106003\n2   chromedriver                        0x0000000102d49e28 chromedriver + 171560\n3   chromedriver                        0x0000000102d4cca1 chromedriver + 183457\n4   chromedriver                        0x0000000102d4cac1 chromedriver + 182977\n5   chromedriver                        0x0000000102d4cd5c chromedriver + 183644\n6   chromedriver                        0x0000000102d7f0e6 chromedriver + 389350\n7   chromedriver                        0x0000000102d7f591 chromedriver + 390545\n8   chromedriver                        0x0000000102db16b4 chromedriver + 595636\n9   chromedriver                        0x0000000102d9c9fd chromedriver + 510461\n10  chromedriver                        0x0000000102daf462 chromedriver + 586850\n11  chromedriver                        0x0000000102d9cc23 chromedriver + 511011\n12  chromedriver                        0x0000000102d7275e chromedriver + 337758\n13  chromedriver                        0x0000000102d73a95 chromedriver + 342677\n14  chromedriver                        0x00000001031bd8ab __gxx_personality_v0 + 305803\n15  chromedriver                        0x00000001031d4863 __gxx_personality_v0 + 399939\n16  chromedriver                        0x00000001031d9c7f __gxx_personality_v0 + 421471\n17  chromedriver                        0x00000001031d5bba __gxx_personality_v0 + 404890\n18  chromedriver                        0x00000001031b1e51 __gxx_personality_v0 + 258097\n19  chromedriver                        0x00000001031f1158 __gxx_personality_v0 + 516920\n20  chromedriver                        0x00000001031f12e1 __gxx_personality_v0 + 517313\n21  chromedriver                        0x00000001032086f8 __gxx_personality_v0 + 612568\n22  libsystem_pthread.dylib             0x00007ff802709514 _pthread_start + 125\n23  libsystem_pthread.dylib             0x00007ff80270502f thread_start + 15\n"
     ]
    }
   ],
   "source": [
    "# find login box and click it\n",
    "browser.find_element_by_css_selector(\".ogth8A ._38oWvQ\").click()"
   ]
  },
  {
   "cell_type": "code",
   "execution_count": 99,
   "id": "a4ebedb5",
   "metadata": {},
   "outputs": [],
   "source": [
    "# after 5 seconds, the browser will close\n",
    "sleep(5)\n",
    "browser.close()"
   ]
  },
  {
   "cell_type": "markdown",
   "id": "edf359dd",
   "metadata": {},
   "source": [
    "## Creating YAML file"
   ]
  },
  {
   "cell_type": "code",
   "execution_count": 110,
   "id": "80c73b23",
   "metadata": {},
   "outputs": [],
   "source": [
    "import yaml \n",
    "\n",
    "#replace 'AAAA' with the appropriate key\n",
    "dict_file = {'consumer_key': 'AAAA', # consumer key > API\n",
    "             'consumer_secret': 'AAAA', # consumer key > secret\n",
    "             'access_token': 'AAAA', # authentican tokens > access token\n",
    "             'access_token_secret': 'AAAA'} # authentican tokens > access token secret\n",
    "\n",
    "with open('./keys.yaml', 'w') as file:\n",
    "    documents = yaml.dump(dict_file, file)"
   ]
  },
  {
   "cell_type": "code",
   "execution_count": null,
   "id": "7b40e564",
   "metadata": {},
   "outputs": [],
   "source": []
  }
 ],
 "metadata": {
  "kernelspec": {
   "display_name": "Python 3",
   "language": "python",
   "name": "python3"
  },
  "language_info": {
   "codemirror_mode": {
    "name": "ipython",
    "version": 3
   },
   "file_extension": ".py",
   "mimetype": "text/x-python",
   "name": "python",
   "nbconvert_exporter": "python",
   "pygments_lexer": "ipython3",
   "version": "3.8.8"
  }
 },
 "nbformat": 4,
 "nbformat_minor": 5
}
